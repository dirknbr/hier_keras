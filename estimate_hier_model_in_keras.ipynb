{
  "nbformat": 4,
  "nbformat_minor": 0,
  "metadata": {
    "colab": {
      "name": "estimate hier model in keras",
      "provenance": [],
      "collapsed_sections": [],
      "authorship_tag": "ABX9TyMZcH7+EMzJj/oeI9W7SXjW",
      "include_colab_link": true
    },
    "kernelspec": {
      "name": "python3",
      "display_name": "Python 3"
    },
    "language_info": {
      "name": "python"
    }
  },
  "cells": [
    {
      "cell_type": "markdown",
      "metadata": {
        "id": "view-in-github",
        "colab_type": "text"
      },
      "source": [
        "<a href=\"https://colab.research.google.com/github/dirknbr/hier_keras/blob/main/estimate_hier_model_in_keras.ipynb\" target=\"_parent\"><img src=\"https://colab.research.google.com/assets/colab-badge.svg\" alt=\"Open In Colab\"/></a>"
      ]
    },
    {
      "cell_type": "markdown",
      "source": [
        "# Hierachical model in TF\n",
        "\n",
        "We have n = 100 and 10 groups\n",
        "\n",
        "$y_i = a_s + b x_i + \\epsilon_i$\n",
        "\n",
        "$a_s \\sim N(a, ...)$\n",
        "\n",
        "Loss \n",
        "\n",
        "$mse(y, pred) + \\lambda |a_s - a|$"
      ],
      "metadata": {
        "id": "CJ40PyZC-qBh"
      }
    },
    {
      "cell_type": "code",
      "execution_count": null,
      "metadata": {
        "id": "x6fFbS2f9xtI"
      },
      "outputs": [],
      "source": [
        "import numpy as np\n",
        "import tensorflow as tf\n",
        "import matplotlib.pyplot as plt\n"
      ]
    },
    {
      "cell_type": "code",
      "source": [
        "n = 100\n",
        "S = 10 # segments\n",
        "x = np.random.normal(size=n).astype(np.float32)\n",
        "s = np.random.choice(S, n)\n",
        "a = np.random.normal(1, 1, size=S)\n",
        "y = (a[s] + x + np.random.normal(size=n)).astype(np.float32)\n",
        "print(y.mean())"
      ],
      "metadata": {
        "colab": {
          "base_uri": "https://localhost:8080/"
        },
        "id": "WbFM-L-V-Ctf",
        "outputId": "9e0b9e41-63ac-49f2-b782-fabce9199e1d"
      },
      "execution_count": null,
      "outputs": [
        {
          "output_type": "stream",
          "name": "stdout",
          "text": [
            "0.84523886\n"
          ]
        }
      ]
    },
    {
      "cell_type": "code",
      "source": [
        "def loss(lam, a_s, a):\n",
        "  def _loss(y, y_pred):\n",
        "    mse = tf.reduce_mean(tf.pow(y - y_pred, 2))\n",
        "    pen = lam * tf.norm(a_s - a)\n",
        "    return mse + pen\n",
        "  return _loss\n",
        "\n",
        "lam = .2\n",
        "a_s = np.ones(S).astype(np.float32)\n",
        "a_a = 0.\n",
        "print(loss(lam, a_s, a_a)(y, 0.))"
      ],
      "metadata": {
        "colab": {
          "base_uri": "https://localhost:8080/"
        },
        "id": "UAOGje_WLN8R",
        "outputId": "79e3f8c7-d181-4a46-8ad2-1c2b437a523d"
      },
      "execution_count": null,
      "outputs": [
        {
          "output_type": "stream",
          "name": "stdout",
          "text": [
            "tf.Tensor(4.3290668, shape=(), dtype=float32)\n"
          ]
        }
      ]
    },
    {
      "cell_type": "code",
      "source": [
        "class MyModel(tf.keras.Model):\n",
        "  def __init__(self):\n",
        "    super().__init__()\n",
        "    self.a = tf.Variable(np.random.normal())\n",
        "    self.a_s = tf.Variable(np.random.normal(size=S).astype(np.float32), shape=S)\n",
        "    self.b = tf.Variable(np.random.normal())\n",
        "    # print(self.a.dtype, self.a_s.dtype)\n",
        "\n",
        "  def call(self, inputs):\n",
        "    x, s = inputs\n",
        "    pred = tf.gather(self.a_s, s) + self.b * x\n",
        "    return pred\n",
        "\n",
        "model = MyModel()"
      ],
      "metadata": {
        "id": "CUB0g3tXNWz2"
      },
      "execution_count": null,
      "outputs": []
    },
    {
      "cell_type": "code",
      "source": [
        "adam = tf.keras.optimizers.Adam(lr=.1)\n",
        "model.compile(loss=loss(lam, model.a_s, model.a), optimizer=adam)"
      ],
      "metadata": {
        "colab": {
          "base_uri": "https://localhost:8080/"
        },
        "id": "xJhKpOg2VgaD",
        "outputId": "b6a487ca-898e-4664-b10d-b2e46e94cf8f"
      },
      "execution_count": null,
      "outputs": [
        {
          "output_type": "stream",
          "name": "stderr",
          "text": [
            "/usr/local/lib/python3.7/dist-packages/keras/optimizer_v2/adam.py:105: UserWarning: The `lr` argument is deprecated, use `learning_rate` instead.\n",
            "  super(Adam, self).__init__(name, **kwargs)\n"
          ]
        }
      ]
    },
    {
      "cell_type": "code",
      "source": [
        "# check gather\n",
        "xx = tf.Variable([1., 2.])\n",
        "tf.gather(xx, [1])"
      ],
      "metadata": {
        "colab": {
          "base_uri": "https://localhost:8080/"
        },
        "id": "YWtRKMABXc7M",
        "outputId": "b27af28c-6af8-4fb6-8f58-b50e29e44bf1"
      },
      "execution_count": null,
      "outputs": [
        {
          "output_type": "execute_result",
          "data": {
            "text/plain": [
              "<tf.Tensor: shape=(1,), dtype=float32, numpy=array([2.], dtype=float32)>"
            ]
          },
          "metadata": {},
          "execution_count": 168
        }
      ]
    },
    {
      "cell_type": "code",
      "source": [
        "# sidx = tf.constant(s, dtype=tf.int32)\n",
        "# print(sidx)\n",
        "model.predict([x, s])"
      ],
      "metadata": {
        "colab": {
          "base_uri": "https://localhost:8080/"
        },
        "id": "svJelkS6VoBN",
        "outputId": "f1aecd8a-9abe-4dde-d19a-a419622521c6"
      },
      "execution_count": null,
      "outputs": [
        {
          "output_type": "execute_result",
          "data": {
            "text/plain": [
              "array([ 0.32101524,  0.36131972,  0.2576491 , -0.89955145, -0.33168727,\n",
              "       -0.2079846 ,  1.600967  ,  1.7127635 , -0.7316433 , -0.27495033,\n",
              "        0.52702904, -0.7142322 ,  1.0643897 ,  1.2795174 , -0.12728673,\n",
              "        0.10218421, -0.7558011 , -1.0581867 ,  0.8451338 ,  0.20960307,\n",
              "       -1.426439  , -1.8964554 ,  0.34759447, -0.54192024,  0.07200885,\n",
              "        0.20312594,  1.3092117 ,  0.34378594,  0.543006  ,  0.06212038,\n",
              "       -0.81742096,  0.13314992, -0.29335523,  0.3681361 , -0.1540165 ,\n",
              "        1.4850848 , -0.28180188, -0.4796902 ,  0.25313455,  0.6306188 ,\n",
              "       -0.14532214,  1.0838306 , -2.1297307 , -0.8704872 , -0.12384045,\n",
              "        0.66583884, -1.3304828 , -0.10569477,  1.6889453 ,  0.5351421 ,\n",
              "        0.15461253, -0.5296541 ,  1.1173967 ,  0.52800435,  0.12044698,\n",
              "       -0.08713645, -0.4022668 ,  0.13508493,  0.5172523 , -0.27752203,\n",
              "       -0.7227569 ,  1.1321975 , -1.1688563 , -2.068478  , -0.6096046 ,\n",
              "        0.05554645, -0.6409866 , -0.00683391,  1.4723088 , -0.17298004,\n",
              "       -0.290847  , -0.459034  ,  0.21520036, -1.1764795 , -1.1252555 ,\n",
              "       -1.6399043 ,  0.3666549 ,  0.77469623,  0.48781586,  2.0925694 ,\n",
              "       -1.7712715 , -0.24017519,  1.0041885 ,  0.9164185 , -2.4271004 ,\n",
              "        0.20720445, -0.6502129 , -0.09597895, -0.72294134, -0.3394157 ,\n",
              "       -1.3224616 ,  1.1716766 ,  1.8026009 , -0.00647271,  2.175198  ,\n",
              "       -1.2632945 , -1.3410792 , -0.65484256,  1.0172921 , -0.28383073],\n",
              "      dtype=float32)"
            ]
          },
          "metadata": {},
          "execution_count": 169
        }
      ]
    },
    {
      "cell_type": "code",
      "source": [
        "model.fit([x, s], y, epochs=100)"
      ],
      "metadata": {
        "colab": {
          "base_uri": "https://localhost:8080/"
        },
        "id": "AuMHzsUTasQq",
        "outputId": "10dc70d0-f84f-454b-fa40-30bfaaff787b"
      },
      "execution_count": null,
      "outputs": [
        {
          "output_type": "stream",
          "name": "stdout",
          "text": [
            "Epoch 1/100\n",
            "4/4 [==============================] - 1s 4ms/step - loss: 3.2449\n",
            "Epoch 2/100\n",
            "4/4 [==============================] - 0s 4ms/step - loss: 2.4965\n",
            "Epoch 3/100\n",
            "4/4 [==============================] - 0s 3ms/step - loss: 2.1664\n",
            "Epoch 4/100\n",
            "4/4 [==============================] - 0s 3ms/step - loss: 1.9237\n",
            "Epoch 5/100\n",
            "4/4 [==============================] - 0s 3ms/step - loss: 1.7433\n",
            "Epoch 6/100\n",
            "4/4 [==============================] - 0s 3ms/step - loss: 1.6439\n",
            "Epoch 7/100\n",
            "4/4 [==============================] - 0s 3ms/step - loss: 1.5679\n",
            "Epoch 8/100\n",
            "4/4 [==============================] - 0s 4ms/step - loss: 1.5142\n",
            "Epoch 9/100\n",
            "4/4 [==============================] - 0s 3ms/step - loss: 1.5005\n",
            "Epoch 10/100\n",
            "4/4 [==============================] - 0s 4ms/step - loss: 1.4858\n",
            "Epoch 11/100\n",
            "4/4 [==============================] - 0s 4ms/step - loss: 1.4882\n",
            "Epoch 12/100\n",
            "4/4 [==============================] - 0s 4ms/step - loss: 1.5007\n",
            "Epoch 13/100\n",
            "4/4 [==============================] - 0s 4ms/step - loss: 1.5211\n",
            "Epoch 14/100\n",
            "4/4 [==============================] - 0s 4ms/step - loss: 1.4992\n",
            "Epoch 15/100\n",
            "4/4 [==============================] - 0s 3ms/step - loss: 1.4910\n",
            "Epoch 16/100\n",
            "4/4 [==============================] - 0s 3ms/step - loss: 1.4987\n",
            "Epoch 17/100\n",
            "4/4 [==============================] - 0s 4ms/step - loss: 1.4931\n",
            "Epoch 18/100\n",
            "4/4 [==============================] - 0s 3ms/step - loss: 1.4847\n",
            "Epoch 19/100\n",
            "4/4 [==============================] - 0s 3ms/step - loss: 1.4825\n",
            "Epoch 20/100\n",
            "4/4 [==============================] - 0s 3ms/step - loss: 1.4876\n",
            "Epoch 21/100\n",
            "4/4 [==============================] - 0s 4ms/step - loss: 1.4935\n",
            "Epoch 22/100\n",
            "4/4 [==============================] - 0s 4ms/step - loss: 1.5098\n",
            "Epoch 23/100\n",
            "4/4 [==============================] - 0s 4ms/step - loss: 1.5107\n",
            "Epoch 24/100\n",
            "4/4 [==============================] - 0s 4ms/step - loss: 1.5059\n",
            "Epoch 25/100\n",
            "4/4 [==============================] - 0s 4ms/step - loss: 1.5026\n",
            "Epoch 26/100\n",
            "4/4 [==============================] - 0s 4ms/step - loss: 1.5320\n",
            "Epoch 27/100\n",
            "4/4 [==============================] - 0s 4ms/step - loss: 1.5557\n",
            "Epoch 28/100\n",
            "4/4 [==============================] - 0s 7ms/step - loss: 1.5230\n",
            "Epoch 29/100\n",
            "4/4 [==============================] - 0s 4ms/step - loss: 1.5002\n",
            "Epoch 30/100\n",
            "4/4 [==============================] - 0s 8ms/step - loss: 1.4813\n",
            "Epoch 31/100\n",
            "4/4 [==============================] - 0s 5ms/step - loss: 1.4992\n",
            "Epoch 32/100\n",
            "4/4 [==============================] - 0s 4ms/step - loss: 1.4994\n",
            "Epoch 33/100\n",
            "4/4 [==============================] - 0s 4ms/step - loss: 1.4846\n",
            "Epoch 34/100\n",
            "4/4 [==============================] - 0s 4ms/step - loss: 1.4843\n",
            "Epoch 35/100\n",
            "4/4 [==============================] - 0s 4ms/step - loss: 1.4884\n",
            "Epoch 36/100\n",
            "4/4 [==============================] - 0s 4ms/step - loss: 1.4890\n",
            "Epoch 37/100\n",
            "4/4 [==============================] - 0s 4ms/step - loss: 1.4848\n",
            "Epoch 38/100\n",
            "4/4 [==============================] - 0s 4ms/step - loss: 1.4884\n",
            "Epoch 39/100\n",
            "4/4 [==============================] - 0s 4ms/step - loss: 1.4978\n",
            "Epoch 40/100\n",
            "4/4 [==============================] - 0s 3ms/step - loss: 1.5019\n",
            "Epoch 41/100\n",
            "4/4 [==============================] - 0s 4ms/step - loss: 1.5012\n",
            "Epoch 42/100\n",
            "4/4 [==============================] - 0s 4ms/step - loss: 1.5042\n",
            "Epoch 43/100\n",
            "4/4 [==============================] - 0s 5ms/step - loss: 1.5021\n",
            "Epoch 44/100\n",
            "4/4 [==============================] - 0s 4ms/step - loss: 1.5101\n",
            "Epoch 45/100\n",
            "4/4 [==============================] - 0s 4ms/step - loss: 1.5150\n",
            "Epoch 46/100\n",
            "4/4 [==============================] - 0s 6ms/step - loss: 1.5129\n",
            "Epoch 47/100\n",
            "4/4 [==============================] - 0s 5ms/step - loss: 1.4947\n",
            "Epoch 48/100\n",
            "4/4 [==============================] - 0s 4ms/step - loss: 1.4828\n",
            "Epoch 49/100\n",
            "4/4 [==============================] - 0s 7ms/step - loss: 1.4771\n",
            "Epoch 50/100\n",
            "4/4 [==============================] - 0s 4ms/step - loss: 1.4833\n",
            "Epoch 51/100\n",
            "4/4 [==============================] - 0s 4ms/step - loss: 1.4802\n",
            "Epoch 52/100\n",
            "4/4 [==============================] - 0s 5ms/step - loss: 1.4813\n",
            "Epoch 53/100\n",
            "4/4 [==============================] - 0s 5ms/step - loss: 1.4827\n",
            "Epoch 54/100\n",
            "4/4 [==============================] - 0s 4ms/step - loss: 1.4951\n",
            "Epoch 55/100\n",
            "4/4 [==============================] - 0s 4ms/step - loss: 1.4856\n",
            "Epoch 56/100\n",
            "4/4 [==============================] - 0s 5ms/step - loss: 1.4816\n",
            "Epoch 57/100\n",
            "4/4 [==============================] - 0s 4ms/step - loss: 1.4836\n",
            "Epoch 58/100\n",
            "4/4 [==============================] - 0s 5ms/step - loss: 1.4851\n",
            "Epoch 59/100\n",
            "4/4 [==============================] - 0s 5ms/step - loss: 1.4811\n",
            "Epoch 60/100\n",
            "4/4 [==============================] - 0s 7ms/step - loss: 1.4876\n",
            "Epoch 61/100\n",
            "4/4 [==============================] - 0s 4ms/step - loss: 1.4997\n",
            "Epoch 62/100\n",
            "4/4 [==============================] - 0s 5ms/step - loss: 1.4941\n",
            "Epoch 63/100\n",
            "4/4 [==============================] - 0s 4ms/step - loss: 1.4834\n",
            "Epoch 64/100\n",
            "4/4 [==============================] - 0s 4ms/step - loss: 1.4923\n",
            "Epoch 65/100\n",
            "4/4 [==============================] - 0s 4ms/step - loss: 1.5172\n",
            "Epoch 66/100\n",
            "4/4 [==============================] - 0s 4ms/step - loss: 1.5508\n",
            "Epoch 67/100\n",
            "4/4 [==============================] - 0s 4ms/step - loss: 1.5420\n",
            "Epoch 68/100\n",
            "4/4 [==============================] - 0s 6ms/step - loss: 1.5177\n",
            "Epoch 69/100\n",
            "4/4 [==============================] - 0s 7ms/step - loss: 1.5216\n",
            "Epoch 70/100\n",
            "4/4 [==============================] - 0s 4ms/step - loss: 1.5081\n",
            "Epoch 71/100\n",
            "4/4 [==============================] - 0s 5ms/step - loss: 1.4894\n",
            "Epoch 72/100\n",
            "4/4 [==============================] - 0s 9ms/step - loss: 1.4852\n",
            "Epoch 73/100\n",
            "4/4 [==============================] - 0s 4ms/step - loss: 1.5085\n",
            "Epoch 74/100\n",
            "4/4 [==============================] - 0s 4ms/step - loss: 1.5247\n",
            "Epoch 75/100\n",
            "4/4 [==============================] - 0s 4ms/step - loss: 1.5261\n",
            "Epoch 76/100\n",
            "4/4 [==============================] - 0s 4ms/step - loss: 1.5163\n",
            "Epoch 77/100\n",
            "4/4 [==============================] - 0s 4ms/step - loss: 1.5040\n",
            "Epoch 78/100\n",
            "4/4 [==============================] - 0s 4ms/step - loss: 1.4883\n",
            "Epoch 79/100\n",
            "4/4 [==============================] - 0s 3ms/step - loss: 1.4762\n",
            "Epoch 80/100\n",
            "4/4 [==============================] - 0s 4ms/step - loss: 1.4848\n",
            "Epoch 81/100\n",
            "4/4 [==============================] - 0s 4ms/step - loss: 1.4892\n",
            "Epoch 82/100\n",
            "4/4 [==============================] - 0s 3ms/step - loss: 1.4840\n",
            "Epoch 83/100\n",
            "4/4 [==============================] - 0s 4ms/step - loss: 1.4751\n",
            "Epoch 84/100\n",
            "4/4 [==============================] - 0s 4ms/step - loss: 1.4756\n",
            "Epoch 85/100\n",
            "4/4 [==============================] - 0s 4ms/step - loss: 1.4739\n",
            "Epoch 86/100\n",
            "4/4 [==============================] - 0s 4ms/step - loss: 1.4812\n",
            "Epoch 87/100\n",
            "4/4 [==============================] - 0s 4ms/step - loss: 1.4809\n",
            "Epoch 88/100\n",
            "4/4 [==============================] - 0s 4ms/step - loss: 1.4784\n",
            "Epoch 89/100\n",
            "4/4 [==============================] - 0s 3ms/step - loss: 1.4924\n",
            "Epoch 90/100\n",
            "4/4 [==============================] - 0s 4ms/step - loss: 1.4967\n",
            "Epoch 91/100\n",
            "4/4 [==============================] - 0s 5ms/step - loss: 1.4842\n",
            "Epoch 92/100\n",
            "4/4 [==============================] - 0s 5ms/step - loss: 1.4759\n",
            "Epoch 93/100\n",
            "4/4 [==============================] - 0s 4ms/step - loss: 1.4833\n",
            "Epoch 94/100\n",
            "4/4 [==============================] - 0s 4ms/step - loss: 1.4825\n",
            "Epoch 95/100\n",
            "4/4 [==============================] - 0s 4ms/step - loss: 1.4940\n",
            "Epoch 96/100\n",
            "4/4 [==============================] - 0s 5ms/step - loss: 1.4958\n",
            "Epoch 97/100\n",
            "4/4 [==============================] - 0s 4ms/step - loss: 1.5039\n",
            "Epoch 98/100\n",
            "4/4 [==============================] - 0s 3ms/step - loss: 1.5029\n",
            "Epoch 99/100\n",
            "4/4 [==============================] - 0s 5ms/step - loss: 1.4844\n",
            "Epoch 100/100\n",
            "4/4 [==============================] - 0s 6ms/step - loss: 1.4846\n"
          ]
        },
        {
          "output_type": "execute_result",
          "data": {
            "text/plain": [
              "<keras.callbacks.History at 0x7fd63c6cd610>"
            ]
          },
          "metadata": {},
          "execution_count": 170
        }
      ]
    },
    {
      "cell_type": "code",
      "source": [
        "model.a_s, a"
      ],
      "metadata": {
        "colab": {
          "base_uri": "https://localhost:8080/"
        },
        "id": "s7_xK0BGbyF-",
        "outputId": "c4d41e18-6621-459f-d3fa-aac933762d57"
      },
      "execution_count": null,
      "outputs": [
        {
          "output_type": "execute_result",
          "data": {
            "text/plain": [
              "(<tf.Variable 'Variable:0' shape=(10,) dtype=float32, numpy=\n",
              " array([ 0.503964  ,  1.5952309 ,  0.22881734, -0.29515716,  1.6124464 ,\n",
              "         0.524153  ,  1.4994751 ,  2.0510995 ,  0.41089475,  2.1225126 ],\n",
              "       dtype=float32)>,\n",
              " array([ 0.64861722,  1.54170266,  0.12485574, -0.60684516,  2.19078692,\n",
              "        -0.13058172,  2.10488417,  2.62546552,  0.45560249,  1.75351156]))"
            ]
          },
          "metadata": {},
          "execution_count": 171
        }
      ]
    },
    {
      "cell_type": "code",
      "source": [
        "model.a"
      ],
      "metadata": {
        "colab": {
          "base_uri": "https://localhost:8080/"
        },
        "id": "ZXpwLzJZdX_4",
        "outputId": "e66acece-7290-4314-9402-048d35697e1e"
      },
      "execution_count": null,
      "outputs": [
        {
          "output_type": "execute_result",
          "data": {
            "text/plain": [
              "<tf.Variable 'Variable:0' shape=() dtype=float32, numpy=1.01284>"
            ]
          },
          "metadata": {},
          "execution_count": 172
        }
      ]
    },
    {
      "cell_type": "code",
      "source": [
        "model.b"
      ],
      "metadata": {
        "colab": {
          "base_uri": "https://localhost:8080/"
        },
        "id": "BLXzONqwb9ns",
        "outputId": "66ef6753-5bb2-4bd3-b036-2361ca74ed5a"
      },
      "execution_count": null,
      "outputs": [
        {
          "output_type": "execute_result",
          "data": {
            "text/plain": [
              "<tf.Variable 'Variable:0' shape=() dtype=float32, numpy=1.004491>"
            ]
          },
          "metadata": {},
          "execution_count": 173
        }
      ]
    },
    {
      "cell_type": "code",
      "source": [
        "pred = model.predict([x, s])"
      ],
      "metadata": {
        "id": "ar9R9woscmHl"
      },
      "execution_count": null,
      "outputs": []
    },
    {
      "cell_type": "code",
      "source": [
        "plt.scatter(y, pred)"
      ],
      "metadata": {
        "colab": {
          "base_uri": "https://localhost:8080/",
          "height": 283
        },
        "id": "zHxZO_ATcuSR",
        "outputId": "e13e2610-c1e9-4f39-ba30-74db0ffe39e4"
      },
      "execution_count": null,
      "outputs": [
        {
          "output_type": "execute_result",
          "data": {
            "text/plain": [
              "<matplotlib.collections.PathCollection at 0x7fd63c78d510>"
            ]
          },
          "metadata": {},
          "execution_count": 175
        },
        {
          "output_type": "display_data",
          "data": {
            "text/plain": [
              "<Figure size 432x288 with 1 Axes>"
            ],
            "image/png": "[encoded data removed]"
          },
          "metadata": {
            "needs_background": "light"
          }
        }
      ]
    },
    {
      "cell_type": "code",
      "source": [
        "# true and estimated group intercepts\n",
        "plt.plot(a)\n",
        "plt.plot(model.a_s.numpy())"
      ],
      "metadata": {
        "colab": {
          "base_uri": "https://localhost:8080/",
          "height": 283
        },
        "id": "cCebVj15c0sA",
        "outputId": "ad1da4c1-d0fc-4a43-a1df-2f17069d597b"
      },
      "execution_count": null,
      "outputs": [
        {
          "output_type": "execute_result",
          "data": {
            "text/plain": [
              "[<matplotlib.lines.Line2D at 0x7fd63cec3d50>]"
            ]
          },
          "metadata": {},
          "execution_count": 176
        },
        {
          "output_type": "display_data",
          "data": {
            "text/plain": [
              "<Figure size 432x288 with 1 Axes>"
            ],
            "image/png": "[encoded data removed]"
          },
          "metadata": {
            "needs_background": "light"
          }
        }
      ]
    }
  ]
}